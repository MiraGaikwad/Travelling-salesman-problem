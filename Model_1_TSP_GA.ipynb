{
 "cells": [
  {
   "cell_type": "markdown",
   "id": "e712e32e",
   "metadata": {},
   "source": [
    "# Model 1 - TSP Genetic Algorithm"
   ]
  },
  {
   "cell_type": "code",
   "execution_count": 1,
   "id": "869d6931",
   "metadata": {},
   "outputs": [
    {
     "name": "stderr",
     "output_type": "stream",
     "text": [
      "C:\\Users\\Mira\\anaconda3\\lib\\site-packages\\numpy\\_distributor_init.py:30: UserWarning: loaded more than 1 DLL from .libs:\n",
      "C:\\Users\\Mira\\anaconda3\\lib\\site-packages\\numpy\\.libs\\libopenblas.EL2C6PLE4ZYW3ECEVIV3OXXGRN2NRFM2.gfortran-win_amd64.dll\n",
      "C:\\Users\\Mira\\anaconda3\\lib\\site-packages\\numpy\\.libs\\libopenblas.PYQHXLVVQ7VESDPUVUADXEVJOBGHJPAY.gfortran-win_amd64.dll\n",
      "  warnings.warn(\"loaded more than 1 DLL from .libs:\"\n"
     ]
    }
   ],
   "source": [
    "import sys, math, random, heapq\n",
    "import matplotlib.pyplot as plt\n",
    "from itertools import chain\n",
    "\n",
    "class Graph:\n",
    "\n",
    "    def __init__(self, vertices):\n",
    "        self.vertices = vertices\n",
    "        self.n = len(vertices)\n",
    "\n",
    "    def x(self, v):\n",
    "        return self.vertices[v][0]\n",
    "\n",
    "    def y(self, v):\n",
    "        return self.vertices[v][1]\n",
    "\n",
    "    # Lookup table for distances\n",
    "    _d_lookup = {}\n",
    "\n",
    "###########################################################################\n",
    "##### PART 1: Converts grid co-ordinates of the nodes into a distance matrix\n",
    "\n",
    "    def d(self, u, v):\n",
    "        # Check if the distance was computed before\n",
    "        if (u, v) in self._d_lookup:\n",
    "            return self._d_lookup[(u, v)]\n",
    "        # Otherwise compute euclidean distance\n",
    "        _distance = math.sqrt((u[0] - v[0])**2 + (u[1] - v[1])**2)\n",
    "        # Add to dictionary\n",
    "        self._d_lookup[(u, v)], self._d_lookup[(v, u)] = _distance, _distance\n",
    "#         if self._d_lookup[(u, v)] != self._d_lookup[(v, u)]:\n",
    "#             self._d_lookup[(u, v)] = _distance\n",
    "        \n",
    "        return _distance\n",
    "\n",
    "###########################################################################\n",
    "##### PART 2: Plots the final optimal route\n",
    "\n",
    "    def plot(self, tour=None):\n",
    "        \"\"\"Plots the cities and superimposes given tour\"\"\"\n",
    "        if tour is None:\n",
    "            tour = Tour(self, [])\n",
    "\n",
    "        _vertices = [self.vertices[0]]\n",
    "\n",
    "        for i in tour.vertices:\n",
    "            _vertices.append(self.vertices[i])\n",
    "\n",
    "        _vertices.append(self.vertices[0])\n",
    "\n",
    "#         plt.title(\"Cost = \" + str(tour.cost()))\n",
    "        plt.plot(*zip(*_vertices), '-r')\n",
    "        plt.scatter(*zip(*self.vertices), c=\"b\", s=10, marker=\"s\")\n",
    "        plt.show()\n",
    "#         print(\"Vertices for locations are:\\n\", _vertices)                     #M - priting vertices\n",
    "        return _vertices\n",
    "        \n",
    "###########################################################################\n",
    "##### PART 2a: Plots the optimal route without returning to first node\n",
    "\n",
    "    def plot2(self, tour=None):\n",
    "        \"\"\"Plots the cities and superimposes given tour\"\"\"\n",
    "        if tour is None:\n",
    "            tour = Tour(self, [])\n",
    "\n",
    "        _vertices = [self.vertices[0]]\n",
    "\n",
    "        for i in tour.vertices:\n",
    "            _vertices.append(self.vertices[i])\n",
    "\n",
    "        _vertices.append(self.vertices[0])\n",
    "\n",
    "#         plt.title(\"Cost = \" + str(tour.cost()))\n",
    "        plt.plot(*zip(*_vertices[0:-1]), '-r')\n",
    "#         plt.plot(*zip(*_vertices), '-r')\n",
    "        plt.scatter(*zip(*self.vertices), c=\"b\", s=10, marker=\"s\")\n",
    "        plt.show()\n",
    "        print(\"Vertices for locations are:\\n\", _vertices)                     #M - priting vertices\n",
    "\n",
    "###########################################################################\n",
    "##### PART 3: Calculates the distance of a given (full) path\n",
    "class Tour:\n",
    "\n",
    "    def __init__(self, g, vertices = None):\n",
    "        \"\"\"Generate random tour in given graph g\"\"\"\n",
    "        self.g = g\n",
    "        if vertices is None:\n",
    "            self.vertices = list(range(1, g.n))\n",
    "            random.shuffle(self.vertices)\n",
    "        else:\n",
    "            self.vertices = vertices\n",
    "        self.__cost = None\n",
    "\n",
    "    def cost(self):\n",
    "        \"\"\"Return total edge-cost of tour\"\"\"\n",
    "        if self.__cost is None:\n",
    "            self.__cost = 0\n",
    "            for i, j in zip([0] + self.vertices, self.vertices + [0]):\n",
    "                self.__cost += self.g.d(self.g.vertices[i], self.g.vertices[j])\n",
    "#                 print(self.__cost)\n",
    "        return self.__cost\n",
    "\n",
    "###########################################################################\n",
    "##### PART 4: IMPORTANT Main GA parameters (Probability of creating each type of child)\n",
    "\n",
    "class GeneticAlgorithm:\n",
    "\n",
    "    def __init__(self, g, population_size, k=5, elite_mating_rate=0.5,\n",
    "                 mutation_rate=0.015, mutation_swap_rate=0.2):   #Probability of each type of child being created\n",
    "        \"\"\"Initialises algorithm parameters\"\"\"\n",
    "\n",
    "        self.g = g\n",
    "        \n",
    "        self.population = []\n",
    "        for _ in range(population_size):\n",
    "            self.population.append(Tour(g))\n",
    "\n",
    "        self.population_size = population_size\n",
    "        self.k = k\n",
    "        self.elite_mating_rate = elite_mating_rate\n",
    "        self.mutation_rate = mutation_rate\n",
    "        self.mutation_swap_rate = mutation_swap_rate\n",
    "        \n",
    "###########################################################################\n",
    "##### PART 5 = Crossover - as described in Teaching Material (Week 11 = AI)\n",
    "\n",
    "    def crossover(self, mum, dad):\n",
    "        \"\"\"Implements ordered crossover\"\"\"\n",
    "        size = len(mum.vertices)\n",
    "\n",
    "        # Choose random start/end position for crossover\n",
    "        alice, bob = [-1] * size, [-1] * size\n",
    "        start, end = sorted([random.randrange(size) for _ in range(2)])\n",
    "\n",
    "        # Replicate mum's sequence for alice, dad's sequence for bob\n",
    "        for i in range(start, end + 1):\n",
    "            alice[i] = mum.vertices[i]\n",
    "            bob[i] = dad.vertices[i]\n",
    "\n",
    "        # Fill the remaining position with the other parents' entries\n",
    "        current_dad_position, current_mum_position = 0, 0\n",
    "\n",
    "        for i in chain(range(start), range(end + 1, size)):\n",
    "\n",
    "            while dad.vertices[current_dad_position] in alice:\n",
    "                current_dad_position += 1\n",
    "\n",
    "            while mum.vertices[current_mum_position] in bob:\n",
    "                current_mum_position += 1\n",
    "\n",
    "            alice[i] = dad.vertices[current_dad_position]\n",
    "            bob[i] = mum.vertices[current_mum_position]\n",
    "\n",
    "        # Return twins\n",
    "        return Tour(self.g, alice), Tour(self.g, bob)\n",
    "\n",
    "###########################################################################\n",
    "##### PART 6 = Mutation - swaps pairs, as in TSP_HillClimb.py and described in Week 10, but can swap multiple pairs.\n",
    "    def mutate(self, tour):\n",
    "        \"\"\"Randomly swaps pairs of cities in a given tour according to mutation rate\"\"\"\n",
    "\n",
    "        # Decide whether to mutate\n",
    "        if random.random() < self.mutation_rate:\n",
    "\n",
    "            # For each vertex\n",
    "            for i in range(len(tour.vertices)):\n",
    "\n",
    "                # Randomly decide whether to swap node i\n",
    "                if random.random() < self.mutation_swap_rate:\n",
    "\n",
    "                    # Randomly choose other node to swap j\n",
    "                    j = random.randrange(len(tour.vertices))\n",
    "\n",
    "                    # Swap i and j\n",
    "                    tour.vertices[i], tour.vertices[j] = tour.vertices[j], tour.vertices[i]\n",
    "\n",
    "###########################################################################\n",
    "##### PART 7 = Selects the fittest parents = takes a random sample of solutions and picks \"best\" solutions from that sample\n",
    "    def select_parent(self, k):\n",
    "        \"\"\"Implements k-tournament selection to choose parents\"\"\"\n",
    "        tournament = random.sample(self.population, k)\n",
    "        return max(tournament, key=lambda t: t.cost())\n",
    "\n",
    "    \n",
    "###########################################################################\n",
    "##### PART 8 = Creates the new populatio for the next generation\n",
    "\n",
    "    def evolve(self):\n",
    "        \"\"\"Executes one iteration of the genetic algorithm to obtain a new generation\"\"\"\n",
    "\n",
    "        new_population = []\n",
    "\n",
    "        for _ in range(self.population_size):\n",
    "\n",
    "            # K-tournament for parents\n",
    "            mum, dad = self.select_parent(self.k), self.select_parent(self.k)\n",
    "            alice, bob = self.crossover(mum, dad)\n",
    "\n",
    "            # Elitism = keep existing (best) solution, do not change\n",
    "            if random.random() < self.elite_mating_rate:\n",
    "                if alice.cost() < mum.cost() or alice.cost() < dad.cost():\n",
    "                    new_population.append(alice)\n",
    "                if bob.cost() < mum.cost() or bob.cost() < dad.cost():\n",
    "                    new_population.append(bob)\n",
    "\n",
    "            else:\n",
    "                self.mutate(alice)\n",
    "                self.mutate(bob)\n",
    "                new_population += [alice, bob]\n",
    "\n",
    "        # Add new population to old\n",
    "        self.population += new_population\n",
    "\n",
    "        # Elitism = keep existing (best) solution, do not change\n",
    "        self.population = heapq.nsmallest(self.population_size, self.population, key=lambda t: t.cost())\n",
    "\n",
    "###########################################################################\n",
    "##### PART 9 = IMPORTANT ##### number of generations = (similar to number of steps in hill-climb)\n",
    "\n",
    "    def run(self, iterations=200):  #Number of Generations: more = better, but takes longer\n",
    "        for _ in range(iterations):\n",
    "            self.evolve()\n",
    "\n",
    "    def best(self):\n",
    "        return max(self.population, key=lambda t: t.cost())\n"
   ]
  },
  {
   "cell_type": "markdown",
   "id": "ebc4eb3f",
   "metadata": {},
   "source": [
    "# Route 1 ---------> For all 19 stores except W2 -> 10 -> 19 -> 1 -> 7"
   ]
  },
  {
   "cell_type": "code",
   "execution_count": 20,
   "id": "fc954e3a",
   "metadata": {},
   "outputs": [
    {
     "data": {
      "image/png": "[encoded data removed]",
      "text/plain": [
       "<Figure size 432x288 with 1 Axes>"
      ]
     },
     "metadata": {
      "needs_background": "light"
     },
     "output_type": "display_data"
    },
    {
     "name": "stdout",
     "output_type": "stream",
     "text": [
      "Ver [(19.9906676704456, 79.6926263050003), (2.11897096450746, 86.5148544660837), (2.76790974222021, 71.1176072605653), (10.8797000941924, 72.5752467820306), (14.031734193723, 65.4926922540545), (18.6794883893845, 67.2743901634899), (22.0757382980061, 42.0458705004164), (0.435979595346347, 42.0535838452666), (4.36025048478595, 19.8891244405433), (16.7414536355628, 16.5160503087941), (33.86168368335, 25.3593730700641), (46.7438178442938, 37.1248715385984), (52.5421770712729, 46.1079951946237), (44.0381681668617, 49.29169136708), (37.6105020952811, 50.5648642532894), (45.0885991859118, 58.2955216096463), (48.039399290203, 69.8632165852765), (57.7102187574938, 76.9610339716859), (37.8697820230032, 92.5591094904637), (32.7323075124292, 86.2753678010589), (19.9906676704456, 79.6926263050003)]\n",
      "Best path: [1, 6, 4, 5, 3, 2, 13, 8, 10, 9, 7, 11, 12, 15, 14, 16, 17, 18, 19, 20] \n",
      "Total distance: 283.37587162316703\n",
      "\n",
      "Price for this route 1 is:  283.37587162316703\n"
     ]
    }
   ],
   "source": [
    "###########################################################################\n",
    "##### PART 10 =  IMPORTANT ## Input the data for the problem\n",
    "\n",
    "#Practical 9, Question 5\n",
    "g = Graph([    \n",
    "(19.9906676704456,79.6926263050003),#W1\n",
    "(18.6794883893845,67.2743901634899),#6     \n",
    "(14.031734193723,65.4926922540545),#4\n",
    "(2.76790974222021,71.1176072605653),#5\n",
    "(10.8797000941924,72.5752467820306),#12\n",
    "(2.11897096450746,86.5148544660837),#20         \n",
    "(33.86168368335,25.3593730700641),#2\n",
    "(0.435979595346347,42.0535838452666),#23\n",
    "(16.7414536355628,16.5160503087941),#17\n",
    "(4.36025048478595,19.8891244405433),#9\n",
    "(46.7438178442938,37.1248715385984),#14\n",
    "(52.5421770712729,46.1079951946237),#8\n",
    "(22.0757382980061,42.0458705004164),#11 \n",
    "(37.6105020952811,50.5648642532894),#3\n",
    "(44.0381681668617,49.29169136708),#21\n",
    "(45.0885991859118,58.2955216096463),#22\n",
    "(48.039399290203,69.8632165852765),#13\n",
    "(57.7102187574938,76.9610339716859),#15\n",
    "(37.8697820230032,92.5591094904637),#18  \n",
    "(32.7323075124292,86.2753678010589),#16 \n",
    "        \n",
    "])\n",
    "\n",
    "\n",
    "###########################################################################\n",
    "##### PART 11 = IMPORTANT ## Runs the main GA (including population size)\n",
    "\n",
    "ga = GeneticAlgorithm(g, 100)    #Inputs (graph co-ordinates, POPULATION SIZE)  more = better, but takes longer\n",
    "ga.run()\n",
    "\n",
    "\n",
    "########## Output\n",
    "best_tour = ga.best()\n",
    "vertices = g.plot(best_tour)   #Plots the path on a graph\n",
    "print(\"Ver\", vertices)\n",
    "\n",
    "best_path = best_tour.vertices\n",
    "size = len (g.vertices)\n",
    "for i in range(size-1):\n",
    "    best_path[i]=best_path[i]+1   #Must +1 to nodes to chnage numbering from (0,n-1) to (1,n)\n",
    "best_path.insert(0,1)   #Adds start node to the list\n",
    "Dist_route1 = best_tour._Tour__cost\n",
    "print(\"Best path:\", best_path, \"\\nTotal distance:\",Dist_route1)   #Prints the best path and distance\n",
    "# print(\"Best path:\", best_path, \"\\nTotal distance:\",(best_tour._Tour__cost)) \n",
    "######### Price \n",
    "P_Van1 = 1\n",
    "Price_Rout1 = Dist_route1 * P_Van1\n",
    "print(\"\\nPrice for this route 1 is: \", Price_Rout1)"
   ]
  },
  {
   "cell_type": "markdown",
   "id": "0cae5223",
   "metadata": {},
   "source": [
    "# Check every 5th store location on the route"
   ]
  },
  {
   "cell_type": "code",
   "execution_count": 21,
   "id": "e2dae001",
   "metadata": {},
   "outputs": [
    {
     "name": "stdout",
     "output_type": "stream",
     "text": [
      "[(18.6794883893845, 67.2743901634899), (33.86168368335, 25.3593730700641), (45.0885991859118, 58.2955216096463)]\n"
     ]
    }
   ],
   "source": [
    "loc=[]\n",
    "for i in range(len(vertices)):\n",
    "    if i==5 or i==10 or i==15:\n",
    "        loc.append(vertices[i])\n",
    "print(loc)"
   ]
  },
  {
   "cell_type": "markdown",
   "id": "2d96ac68",
   "metadata": {},
   "source": [
    "# Route 2 --------> Send Lorry from warehouse_1 to 5th location of route 1"
   ]
  },
  {
   "cell_type": "code",
   "execution_count": 22,
   "id": "9de6128e",
   "metadata": {},
   "outputs": [
    {
     "name": "stdout",
     "output_type": "stream",
     "text": [
      "[(19.9906676704456, 79.6926263050003), (18.6794883893845, 67.2743901634899)]\n"
     ]
    },
    {
     "data": {
      "image/png": "[encoded data removed]",
      "text/plain": [
       "<Figure size 432x288 with 1 Axes>"
      ]
     },
     "metadata": {
      "needs_background": "light"
     },
     "output_type": "display_data"
    },
    {
     "name": "stdout",
     "output_type": "stream",
     "text": [
      "Vertices: [(19.9906676704456, 79.6926263050003), (18.6794883893845, 67.2743901634899), (19.9906676704456, 79.6926263050003)]\n",
      "\n",
      "Best path: [1, 2] \n",
      "Total distance: 24.97452942286594\n",
      "\n",
      "Price for this route 2 is:  49.94905884573188\n"
     ]
    }
   ],
   "source": [
    "W1 = [(19.9906676704456,79.6926263050003),] #W1\n",
    "\n",
    "W1.append(loc[0])\n",
    "print(W1)\n",
    "\n",
    "g = Graph(W1)\n",
    "\n",
    "###########################################################################\n",
    "##### PART 11 = IMPORTANT ## Runs the main GA (including population size)\n",
    "\n",
    "ga = GeneticAlgorithm(g, 100)    #Inputs (graph co-ordinates, POPULATION SIZE)  more = better, but takes longer\n",
    "ga.run()\n",
    "\n",
    "\n",
    "########## Output\n",
    "best_tour = ga.best()\n",
    "vertices = g.plot(best_tour)   #Plots the path on a graph\n",
    "print(\"Vertices:\", vertices)\n",
    "\n",
    "best_path = best_tour.vertices\n",
    "size = len (g.vertices)\n",
    "for i in range(size-1):\n",
    "    best_path[i]=best_path[i]+1   #Must +1 to nodes to chnage numbering from (0,n-1) to (1,n)\n",
    "best_path.insert(0,1)   #Adds start node to the list\n",
    "\n",
    "Dist_route2 = best_tour._Tour__cost\n",
    "print(\"\\nBest path:\", best_path, \"\\nTotal distance:\", Dist_route2)   #Prints the best path and distance\n",
    "\n",
    "######### Price \n",
    "#Lorry costs £2 per mile\n",
    "P_Lorry1 = 2\n",
    "Price_Rout2 = Dist_route2 * P_Lorry1\n",
    "print(\"\\nPrice for this route 2 is: \", Price_Rout2)"
   ]
  },
  {
   "cell_type": "markdown",
   "id": "8dd9e18e",
   "metadata": {},
   "source": [
    "# Route 3 --------> Send Lorry from warehouse 2 to 10th & 15th location of route1"
   ]
  },
  {
   "cell_type": "code",
   "execution_count": 25,
   "id": "beb8c268",
   "metadata": {},
   "outputs": [
    {
     "name": "stdout",
     "output_type": "stream",
     "text": [
      "[(73.1817470551995, 42.0285954296223), (33.86168368335, 25.3593730700641), (45.0885991859118, 58.2955216096463)]\n"
     ]
    },
    {
     "data": {
      "image/png": "[encoded data removed]",
      "text/plain": [
       "<Figure size 432x288 with 1 Axes>"
      ]
     },
     "metadata": {
      "needs_background": "light"
     },
     "output_type": "display_data"
    },
    {
     "name": "stdout",
     "output_type": "stream",
     "text": [
      "Ver [(73.1817470551995, 42.0285954296223), (33.86168368335, 25.3593730700641), (45.0885991859118, 58.2955216096463), (73.1817470551995, 42.0285954296223)]\n",
      "Best path: [1, 2, 3] \n",
      "Total distance: 109.96739947621523\n",
      "\n",
      "Price for this route 2 is:  219.93479895243047\n"
     ]
    }
   ],
   "source": [
    "W2 = [(73.1817470551995,42.0285954296223),  #W2\n",
    "]\n",
    "\n",
    "###### Add 5th and 10th store in the list to find the route\n",
    "W2.append(loc[1])\n",
    "W2.append(loc[2])\n",
    "print(W2)\n",
    "\n",
    "g = Graph(W2)\n",
    "\n",
    "###########################################################################\n",
    "##### PART 11 = IMPORTANT ## Runs the main GA (including population size)\n",
    "\n",
    "ga = GeneticAlgorithm(g, 100)    #Inputs (graph co-ordinates, POPULATION SIZE)  more = better, but takes longer\n",
    "ga.run()\n",
    "\n",
    "\n",
    "########## Output\n",
    "best_tour = ga.best()\n",
    "vertices = g.plot(best_tour)   #Plots the path on a graph\n",
    "print(\"Ver\", vertices)\n",
    "\n",
    "best_path = best_tour.vertices\n",
    "size = len (g.vertices)\n",
    "for i in range(size-1):\n",
    "    best_path[i]=best_path[i]+1   #Must +1 to nodes to chnage numbering from (0,n-1) to (1,n)\n",
    "best_path.insert(0,1)   #Adds start node to the list\n",
    "\n",
    "Dist_route3 = best_tour._Tour__cost\n",
    "print(\"Best path:\", best_path, \"\\nTotal distance:\", Dist_route3)   #Prints the best path and distance\n",
    "\n",
    "######### Price \n",
    "#Lorry costs £2 per mile\n",
    "P_Lorry2 = 2\n",
    "Price_Rout3 = Dist_route3 * P_Lorry2\n",
    "print(\"\\nPrice for this route 3 is: \", Price_Rout3)"
   ]
  },
  {
   "cell_type": "markdown",
   "id": "8dc6b6b2",
   "metadata": {},
   "source": [
    "# Route 4 ---------> Send Van_2 to remaining 4 locations from Warehouse 2"
   ]
  },
  {
   "cell_type": "markdown",
   "id": "503e75fc",
   "metadata": {},
   "source": [
    "## Route 4 - W2 -> 19 -> 1 -> 10 -> 7 -> W2"
   ]
  },
  {
   "cell_type": "code",
   "execution_count": 26,
   "id": "8aadae62",
   "metadata": {},
   "outputs": [
    {
     "data": {
      "image/png": "[encoded data removed]",
      "text/plain": [
       "<Figure size 432x288 with 1 Axes>"
      ]
     },
     "metadata": {
      "needs_background": "light"
     },
     "output_type": "display_data"
    },
    {
     "name": "stdout",
     "output_type": "stream",
     "text": [
      "Best path: [1, 3, 2, 4, 5] \n",
      "Total distance: 137.63626702161088\n",
      "\n",
      "Price for this route 7 is:  137.63626702161088\n"
     ]
    }
   ],
   "source": [
    "###########################################################################\n",
    "##### PART 10 =  IMPORTANT ## Input the data for the problem\n",
    "\n",
    "g = Graph([    \n",
    "    \n",
    "# Warehouse 2    \n",
    "(73.1817470551995,42.0285954296223),#W2\n",
    "(90.8971962770689,72.6439611285086),#1\n",
    "(75.1446122718255,57.1376740230397),#19\n",
    "(82.141108510899,49.206166784107),#10\n",
    "(94.1041534254341,12.2284468976924),#7    \n",
    "])\n",
    "\n",
    "###########################################################################\n",
    "##### PART 11 = IMPORTANT ## Runs the main GA (including population size)\n",
    "\n",
    "ga = GeneticAlgorithm(g, 100)    #Inputs (graph co-ordinates, POPULATION SIZE)  more = better, but takes longer\n",
    "ga.run()\n",
    "\n",
    "\n",
    "########## Output\n",
    "best_tour = ga.best()\n",
    "g.plot(best_tour)   #Plots the path on a graph\n",
    "\n",
    "best_path = best_tour.vertices\n",
    "size = len (g.vertices)\n",
    "for i in range(size-1):\n",
    "    best_path[i]=best_path[i]+1   #Must +1 to nodes to chnage numbering from (0,n-1) to (1,n)\n",
    "best_path.insert(0,1)   #Adds start node to the list\n",
    "Dist_route4 = best_tour._Tour__cost\n",
    "print(\"Best path:\", best_path, \"\\nTotal distance:\", Dist_route4)   #Prints the best path and distance\n",
    "\n",
    "######### Price \n",
    "P_Van2 = 1\n",
    "Price_Rout4 = Dist_route4 * P_Van2\n",
    "print(\"\\nPrice for this route 4 is: \", Price_Rout4)"
   ]
  },
  {
   "cell_type": "markdown",
   "id": "74d1d7c1",
   "metadata": {},
   "source": [
    "# Total Distance Travelled and Cost for it"
   ]
  },
  {
   "cell_type": "code",
   "execution_count": 27,
   "id": "68ede6ef",
   "metadata": {},
   "outputs": [
    {
     "name": "stdout",
     "output_type": "stream",
     "text": [
      "Distance of route 1:  283.37587162316703\n",
      "Distance of route 2:  24.97452942286594\n",
      "Distance of route 3:  109.96739947621523\n",
      "Distance of route 4:  137.63626702161088\n",
      "\n",
      "Total Distance covered to make all deliveries is: 555.9540675438591\n",
      "\n",
      "---------------------------------------------------------\n",
      "Price of route 1:  283.37587162316703\n",
      "Price of route 2:  49.94905884573188\n",
      "Price of route 3:  219.93479895243047\n",
      "Price of route 4:  137.63626702161088\n",
      "\n",
      "Total Cost to make all the deliveries is: 690.8959964429403\n"
     ]
    }
   ],
   "source": [
    "print(\"Distance of route 1: \", Dist_route1)\n",
    "print(\"Distance of route 2: \", Dist_route2)\n",
    "print(\"Distance of route 3: \", Dist_route3)\n",
    "print(\"Distance of route 4: \", Dist_route4)\n",
    "\n",
    "Distance_Total = Dist_route1 + Dist_route2 + Dist_route3 + Dist_route4 \n",
    "\n",
    "print(\"\\nTotal Distance covered to make all deliveries is:\", Distance_Total)\n",
    "\n",
    "print(\"\\n---------------------------------------------------------\")\n",
    "\n",
    "print(\"Price of route 1: \", Price_Rout1)\n",
    "print(\"Price of route 2: \", Price_Rout2)\n",
    "print(\"Price of route 3: \", Price_Rout3)\n",
    "print(\"Price of route 4: \", Price_Rout4)\n",
    "\n",
    "Price_Total = Price_Rout1 + Price_Rout2 + Price_Rout3 + Price_Rout4\n",
    "\n",
    "print(\"\\nTotal Cost to make all the deliveries is:\", Price_Total)"
   ]
  }
 ],
 "metadata": {
  "kernelspec": {
   "display_name": "Python 3",
   "language": "python",
   "name": "python3"
  },
  "language_info": {
   "codemirror_mode": {
    "name": "ipython",
    "version": 3
   },
   "file_extension": ".py",
   "mimetype": "text/x-python",
   "name": "python",
   "nbconvert_exporter": "python",
   "pygments_lexer": "ipython3",
   "version": "3.8.8"
  }
 },
 "nbformat": 4,
 "nbformat_minor": 5
}
